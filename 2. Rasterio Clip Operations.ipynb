{
 "cells": [
  {
   "cell_type": "markdown",
   "id": "da2cd53a",
   "metadata": {},
   "source": [
    "## 2. Masking AKA Clipping with Rasterio\n",
    "\n",
    "Okay--I admit this is slightly complicated, but doing GIS in the wild can be that way sometimes!  \n",
    "\n",
    "There's a bunch of ways you may want to clip something, so consider this a primer on what it really takes to clip a raster.  \n",
    "Essentially, you need:\n",
    "1. An input image\n",
    "2. Something you want to clip it with, in this case, we'll use the extent of a shapefile\n",
    "3. You need the raw geometry of your clipping object, and rasterio wants it formatted in a Python dictionary GeoJSON style... \n",
    "4. And of course you need all of the critical descriptive information to go along with these such as the CRS, the transformation, the width, the height, the color profile...  \n",
    "\n",
    "Let's do it!"
   ]
  },
  {
   "cell_type": "code",
   "execution_count": null,
   "id": "87b4b2b9",
   "metadata": {},
   "outputs": [],
   "source": [
    "import rasterio as rio\n",
    "from rasterio.plot import show\n",
    "from rasterio.mask import mask #this is the masking aka clip module\n",
    "import matplotlib.pyplot as plt\n",
    "import geopandas as gpd #to read the input shapefile\n",
    "import shapely #to transform extent into coordinate geometries\n",
    "import json\n",
    "import os"
   ]
  },
  {
   "cell_type": "markdown",
   "id": "caf13103",
   "metadata": {},
   "source": [
    "Important: only run this once or you'll wind up in the wrong directory.\n",
    "```python\n",
    "os.chdir('../')\n",
    "os.getcwd()\n",
    "```"
   ]
  },
  {
   "cell_type": "code",
   "execution_count": null,
   "id": "3dc9f6e8",
   "metadata": {},
   "outputs": [],
   "source": []
  },
  {
   "cell_type": "markdown",
   "id": "11b0b9a5",
   "metadata": {},
   "source": [
    "First, let's read in the image:\n",
    "```python\n",
    "src = rio.open('workshopdata/NAIP_Boulder.tif')\n",
    "```"
   ]
  },
  {
   "cell_type": "code",
   "execution_count": null,
   "id": "8bebae0f",
   "metadata": {},
   "outputs": [],
   "source": []
  },
  {
   "cell_type": "markdown",
   "id": "90149140",
   "metadata": {},
   "source": [
    "Let's take a peek:\n",
    "```python\n",
    "show(src.read(1))\n",
    "```"
   ]
  },
  {
   "cell_type": "code",
   "execution_count": null,
   "id": "d89e42a7",
   "metadata": {},
   "outputs": [],
   "source": []
  },
  {
   "cell_type": "markdown",
   "id": "3e601db0",
   "metadata": {},
   "source": [
    "Big image! In fact, too big for us to all run stuff on it together... so let's clip so that we're only working with the campus area...  \n",
    "\n",
    "Read in the campus shapefile:\n",
    "```python\n",
    "shape = gpd.read_file('workshopdata/UCB_MainCampus_Boundaries.shp')\n",
    "```"
   ]
  },
  {
   "cell_type": "code",
   "execution_count": null,
   "id": "4a7d28d2",
   "metadata": {},
   "outputs": [],
   "source": []
  },
  {
   "cell_type": "markdown",
   "id": "e9f6f5ba",
   "metadata": {},
   "source": [
    "Let's take a look:\n",
    "```python\n",
    "shape.plot(figsize = (12,12))\n",
    "```"
   ]
  },
  {
   "cell_type": "code",
   "execution_count": null,
   "id": "49e5e797",
   "metadata": {},
   "outputs": [],
   "source": []
  },
  {
   "cell_type": "markdown",
   "id": "a6168fe0",
   "metadata": {},
   "source": [
    "Okay, but if we're going to clip with this, it needs to be in the same CRS as the image, this is easy to change using geopandas:\n",
    "```python\n",
    "src.crs\n",
    "```"
   ]
  },
  {
   "cell_type": "code",
   "execution_count": null,
   "id": "8d40c440",
   "metadata": {},
   "outputs": [],
   "source": []
  },
  {
   "cell_type": "markdown",
   "id": "00e394d4",
   "metadata": {},
   "source": [
    "Change it to EPSG 26913\n",
    "```python\n",
    "shape = shape.to_crs(26913)\n",
    "```"
   ]
  },
  {
   "cell_type": "code",
   "execution_count": null,
   "id": "15bef73a",
   "metadata": {},
   "outputs": [],
   "source": []
  },
  {
   "cell_type": "markdown",
   "id": "dbe99c67",
   "metadata": {},
   "source": [
    "Now let's get the extent of this and use it as our clipping geometry...  \n",
    "\n",
    "\n",
    "\n",
    "First, we'll use geopandas to get the extent:  \n",
    "geoseries.total_bounds Returns a tuple containing minx, miny, maxx, maxy values for the bounds of the series as a whole.\n",
    "```python\n",
    "shape.total_bounds\n",
    "```"
   ]
  },
  {
   "cell_type": "code",
   "execution_count": null,
   "id": "aad2855c",
   "metadata": {},
   "outputs": [],
   "source": []
  },
  {
   "cell_type": "markdown",
   "id": "4cb5a588",
   "metadata": {},
   "source": [
    "Does this seem right?\n",
    "```python\n",
    "src.bounds\n",
    "```"
   ]
  },
  {
   "cell_type": "code",
   "execution_count": null,
   "id": "839bcd3b",
   "metadata": {},
   "outputs": [],
   "source": []
  },
  {
   "cell_type": "markdown",
   "id": "5a4ef2cb",
   "metadata": {},
   "source": [
    "Save it as a variable:\n",
    "```python\n",
    "extent = shape.total_bounds\n",
    "```"
   ]
  },
  {
   "cell_type": "code",
   "execution_count": null,
   "id": "b6e49aa6",
   "metadata": {},
   "outputs": [],
   "source": []
  },
  {
   "cell_type": "markdown",
   "id": "c4eefe32",
   "metadata": {},
   "source": [
    "But what we have here are really xmin, ymin, xmax, ymax...  \n",
    "\n",
    "What we need are coordinates of the four corners of this box... \n",
    "\n",
    "So we'll use the [Shapely](https://pypi.org/project/shapely/) library to convert these values to a box with actual point coordinates in the corners.  \n",
    "```python\n",
    "bbox = shapely.geometry.box(*extent)\n",
    "```"
   ]
  },
  {
   "cell_type": "code",
   "execution_count": null,
   "id": "81fe432f",
   "metadata": {},
   "outputs": [],
   "source": []
  },
  {
   "cell_type": "markdown",
   "id": "cfdf8622",
   "metadata": {},
   "source": [
    "Look right? \n",
    "```python\n",
    "print(bbox)\n",
    "```"
   ]
  },
  {
   "cell_type": "code",
   "execution_count": null,
   "id": "c5605172",
   "metadata": {},
   "outputs": [],
   "source": []
  },
  {
   "cell_type": "markdown",
   "id": "48fa6efd",
   "metadata": {},
   "source": [
    "Now we have a couple of more steps... although there are probably many ways to do this, I find this reasonably easy.\n",
    "\n",
    "First bring it into a geopandas dataframe:\n",
    "```python\n",
    "geom = gpd.GeoDataFrame({'geometry': bbox}, index=[0], crs=26913)\n",
    "```"
   ]
  },
  {
   "cell_type": "code",
   "execution_count": null,
   "id": "6161a875",
   "metadata": {},
   "outputs": [],
   "source": []
  },
  {
   "cell_type": "markdown",
   "id": "6c078a73",
   "metadata": {},
   "source": [
    "Now convert that geopandas geodataframe into geojson (which is the same as a Python dictionary.)\n",
    "```python\n",
    "geojson = geom.to_json()\n",
    "```"
   ]
  },
  {
   "cell_type": "code",
   "execution_count": null,
   "id": "710e82df",
   "metadata": {},
   "outputs": [],
   "source": []
  },
  {
   "cell_type": "markdown",
   "id": "5f8c37b1",
   "metadata": {},
   "source": [
    "Take a peek if you're not familiar:\n",
    "```python\n",
    "geojson\n",
    "```"
   ]
  },
  {
   "cell_type": "code",
   "execution_count": null,
   "id": "7c6e7202",
   "metadata": {},
   "outputs": [],
   "source": []
  },
  {
   "cell_type": "markdown",
   "id": "b5f4bce1",
   "metadata": {},
   "source": [
    "Now, here what we're doing is using the json library to just get the part we need... that is, only the geometry element, not all the other stuff. \n",
    "\n",
    "So, here we select what we need (parse) from the json:\n",
    "```python\n",
    "bbox_geom = [json.loads(geojson)['features'][0]['geometry']]\n",
    "```"
   ]
  },
  {
   "cell_type": "code",
   "execution_count": null,
   "id": "f8cb34ce",
   "metadata": {},
   "outputs": [],
   "source": []
  },
  {
   "cell_type": "markdown",
   "id": "e18113db",
   "metadata": {},
   "source": [
    "Okay, so you should now have a list that contains the bounding box coordinate geometry:\n",
    "```python\n",
    "print(bbox_geom)\n",
    "```"
   ]
  },
  {
   "cell_type": "code",
   "execution_count": null,
   "id": "1c795714",
   "metadata": {},
   "outputs": [],
   "source": []
  },
  {
   "cell_type": "markdown",
   "id": "943a50a2",
   "metadata": {},
   "source": [
    "Perfect!  \n",
    "\n",
    "You may be asking: Why does it want it this way???  \n",
    "\n",
    "Because, even though this time we're only clipping by one geometry, if it's formatted as a dict/geojson you can have multiple geometries aka multiple vector features to clip with... (see below)  \n",
    "\n",
    "Now finally, we can run the mask function to get the clipped image. mask() will return two things: the image, and it's affine transformation:\n",
    "```python\n",
    "out_img, out_transform = mask(src, bbox_geom, crop=True)\n",
    "```"
   ]
  },
  {
   "cell_type": "code",
   "execution_count": null,
   "id": "77422800",
   "metadata": {},
   "outputs": [],
   "source": []
  },
  {
   "cell_type": "markdown",
   "id": "525792c2",
   "metadata": {},
   "source": [
    "Let's take a look...\n",
    "```python\n",
    "show(out_img)\n",
    "```"
   ]
  },
  {
   "cell_type": "code",
   "execution_count": null,
   "id": "deee4d54",
   "metadata": {},
   "outputs": [],
   "source": []
  },
  {
   "cell_type": "markdown",
   "id": "cfa3b6f7",
   "metadata": {},
   "source": [
    "Cool, clip done... if you think the color looks weird, don't worry we'll sort that out when we write the final image...  \n",
    "   \n",
    "... now to save it we'll use same approach as before by repurposing the profile:\n",
    "```python\n",
    "src.profile\n",
    "```"
   ]
  },
  {
   "cell_type": "code",
   "execution_count": null,
   "id": "4f468787",
   "metadata": {},
   "outputs": [],
   "source": []
  },
  {
   "cell_type": "markdown",
   "id": "79201bd2",
   "metadata": {},
   "source": [
    "Copy it to a variable:\n",
    "```python\n",
    "profile = src.profile.copy()\n",
    "```\n",
    "(Note, this is the same as the kwargs variable we used in the last notebook)"
   ]
  },
  {
   "cell_type": "code",
   "execution_count": null,
   "id": "6696a478",
   "metadata": {},
   "outputs": [],
   "source": []
  },
  {
   "cell_type": "markdown",
   "id": "4821b986",
   "metadata": {},
   "source": [
    "Grab the height and the width of the output image:\n",
    "```python\n",
    "height = out_img.shape[1]\n",
    "width = out_img.shape[2]\n",
    "```"
   ]
  },
  {
   "cell_type": "code",
   "execution_count": null,
   "id": "7b163a55",
   "metadata": {},
   "outputs": [],
   "source": []
  },
  {
   "cell_type": "markdown",
   "id": "9e5fe93b",
   "metadata": {},
   "source": [
    "Update the profile. Since we have a new transform, a new width & height, we need to use the `.update` method to take the old profile and update certain elements:\n",
    "```python\n",
    "profile.update(transform = out_transform, \n",
    "               width = width, \n",
    "               height = height, \n",
    "               photometric = 'rgb', \n",
    "               alpha = 'no')\n",
    "```\n",
    "(more on photometric & alpha in the next notebook)"
   ]
  },
  {
   "cell_type": "code",
   "execution_count": null,
   "id": "4fc00a59",
   "metadata": {},
   "outputs": [],
   "source": []
  },
  {
   "cell_type": "markdown",
   "id": "131aa300",
   "metadata": {},
   "source": [
    "Open a new empty dataset:\n",
    "```python\n",
    "new = rio.open('NAIP_Campus_Clip.tif', 'w', **profile)\n",
    "```"
   ]
  },
  {
   "cell_type": "code",
   "execution_count": null,
   "id": "dce35a8b",
   "metadata": {},
   "outputs": [],
   "source": []
  },
  {
   "cell_type": "markdown",
   "id": "05d86c5e",
   "metadata": {},
   "source": [
    "Write it to disc:\n",
    "```python\n",
    "new.write(out_img)\n",
    "```"
   ]
  },
  {
   "cell_type": "code",
   "execution_count": null,
   "id": "53e896f2",
   "metadata": {},
   "outputs": [],
   "source": []
  },
  {
   "cell_type": "markdown",
   "id": "0eb3b4f8",
   "metadata": {},
   "source": [
    "Close it...\n",
    "```python\n",
    "new.close()\n",
    "```"
   ]
  },
  {
   "cell_type": "code",
   "execution_count": null,
   "id": "3acdc2a0",
   "metadata": {},
   "outputs": [],
   "source": []
  },
  {
   "cell_type": "markdown",
   "id": "0e0ae5d6",
   "metadata": {},
   "source": [
    "#### Done!  \n",
    "\n",
    "\n",
    "#### Bonus: Multiple geometries...   \n",
    "Though, I have a hard time coming up with scenarios when you would do it this way, but maybe!  \n",
    "\n",
    "What will happen here is, everything beyond the extent of the image (aka, bounds) will be gone, but areas within the extent that are outside of the polygons will remain as no data values...  \n",
    "\n",
    "First, rather than the bounding box, we'll take the original shapefile geodataframe and convert it to geojson:\n",
    "```python\n",
    "geojson = shape.to_json()\n",
    "```"
   ]
  },
  {
   "cell_type": "code",
   "execution_count": null,
   "id": "9f83c59e",
   "metadata": {},
   "outputs": [],
   "source": []
  },
  {
   "cell_type": "markdown",
   "id": "d0cabd52",
   "metadata": {},
   "source": [
    "Add the geometries of each polygon feature to a list:\n",
    "```python\n",
    "clip_geoms = []\n",
    "for i in json.loads(geojson)['features']:\n",
    "    clip_geoms.append(i['geometry'])\n",
    "```"
   ]
  },
  {
   "cell_type": "code",
   "execution_count": null,
   "id": "afa65b7a",
   "metadata": {},
   "outputs": [],
   "source": []
  },
  {
   "cell_type": "markdown",
   "id": "d669e01c",
   "metadata": {},
   "source": [
    "#### Or,\n",
    "slightly faster list comprehension method:\n",
    "```python\n",
    "clip_geoms = [q['geometry'] for q in json.loads(geojson)['features']]\n",
    "```"
   ]
  },
  {
   "cell_type": "code",
   "execution_count": null,
   "id": "95afe3b7",
   "metadata": {},
   "outputs": [],
   "source": []
  },
  {
   "cell_type": "markdown",
   "id": "52919980",
   "metadata": {},
   "source": [
    "Then, same process as we used before:"
   ]
  },
  {
   "cell_type": "code",
   "execution_count": null,
   "id": "07941a12",
   "metadata": {},
   "outputs": [],
   "source": [
    "out_img, out_transform = mask(src, clip_geoms, crop=True)"
   ]
  },
  {
   "cell_type": "code",
   "execution_count": null,
   "id": "3a926773",
   "metadata": {},
   "outputs": [],
   "source": [
    "show(out_img)"
   ]
  },
  {
   "cell_type": "code",
   "execution_count": null,
   "id": "15c8b174",
   "metadata": {},
   "outputs": [],
   "source": [
    "profile = src.profile.copy()\n",
    "height = out_img.shape[1]\n",
    "width = out_img.shape[2]"
   ]
  },
  {
   "cell_type": "markdown",
   "id": "50eabad7",
   "metadata": {},
   "source": [
    "Except this time, we update the `'nodata'` value in the profile to `0`:"
   ]
  },
  {
   "cell_type": "code",
   "execution_count": null,
   "id": "0bc64810",
   "metadata": {},
   "outputs": [],
   "source": [
    "profile.update(transform = out_transform, \n",
    "               width = width, \n",
    "               height = height, \n",
    "               nodata = 0,\n",
    "               photometric = 'rgb', \n",
    "               alpha = 'no')"
   ]
  },
  {
   "cell_type": "code",
   "execution_count": null,
   "id": "2440d073",
   "metadata": {},
   "outputs": [],
   "source": [
    "new = rio.open('NAIP_Campus_Clip2.tif', 'w', **profile)\n",
    "new.write(out_img)\n",
    "new.close()"
   ]
  }
 ],
 "metadata": {
  "kernelspec": {
   "display_name": "Python 3 (ipykernel)",
   "language": "python",
   "name": "python3"
  },
  "language_info": {
   "codemirror_mode": {
    "name": "ipython",
    "version": 3
   },
   "file_extension": ".py",
   "mimetype": "text/x-python",
   "name": "python",
   "nbconvert_exporter": "python",
   "pygments_lexer": "ipython3",
   "version": "3.7.4"
  }
 },
 "nbformat": 4,
 "nbformat_minor": 5
}
