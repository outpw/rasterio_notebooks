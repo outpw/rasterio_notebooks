{
 "cells": [
  {
   "cell_type": "markdown",
   "id": "7019962c",
   "metadata": {},
   "source": [
    "# Rasterio Reprojections  \n",
    "\n",
    "Reprojecting data is, of course, a very common and frequently necessary procedure.  \n",
    "\n",
    "There are some steps one needs to take, which, as usual, relies on using and manipulating descriptive attributes of the source dataset. Are you detecting a theme? It's all about the descriptives...  \n",
    "\n",
    "Imports:"
   ]
  },
  {
   "cell_type": "code",
   "execution_count": 1,
   "id": "719eea9c",
   "metadata": {},
   "outputs": [],
   "source": [
    "import rasterio as rio\n",
    "import numpy as np\n",
    "from rasterio.warp import calculate_default_transform, reproject, Resampling\n",
    "import os"
   ]
  },
  {
   "cell_type": "markdown",
   "id": "f8135434",
   "metadata": {},
   "source": [
    "Important: only run this once or you'll wind up in the wrong directory.\n",
    "```python\n",
    "os.chdir('../')\n",
    "os.getcwd()\n",
    "```"
   ]
  },
  {
   "cell_type": "code",
   "execution_count": null,
   "id": "12cb82e2",
   "metadata": {},
   "outputs": [],
   "source": [
    "os.chdir('../')\n",
    "os.getcwd()"
   ]
  },
  {
   "cell_type": "markdown",
   "id": "57522152",
   "metadata": {},
   "source": [
    "Open up the Flatirons_DEM_1m GeoTiff:\n",
    "```python\n",
    "src = rio.open('workshopdata/dem.tif')\n",
    "```"
   ]
  },
  {
   "cell_type": "code",
   "execution_count": 2,
   "id": "c1515ae9",
   "metadata": {},
   "outputs": [],
   "source": [
    "src = rio.open('workshopdata/dem.tif')"
   ]
  },
  {
   "cell_type": "markdown",
   "id": "6ce31512",
   "metadata": {},
   "source": [
    "Take a peek at the meta:\n",
    "```python\n",
    "src.meta\n",
    "```"
   ]
  },
  {
   "cell_type": "code",
   "execution_count": 3,
   "id": "15a0ea7e",
   "metadata": {},
   "outputs": [
    {
     "data": {
      "text/plain": [
       "{'driver': 'GTiff',\n",
       " 'dtype': 'float32',\n",
       " 'nodata': -3.4028234e+38,\n",
       " 'width': 2702,\n",
       " 'height': 2522,\n",
       " 'count': 1,\n",
       " 'crs': CRS.from_epsg(6342),\n",
       " 'transform': Affine(0.9999394800148107, 0.0, 473821.016811,\n",
       "        0.0, -0.999886617763522, 4427603.58783)}"
      ]
     },
     "execution_count": 3,
     "metadata": {},
     "output_type": "execute_result"
    }
   ],
   "source": [
    "src.meta"
   ]
  },
  {
   "cell_type": "markdown",
   "id": "a995e4fc",
   "metadata": {},
   "source": [
    "Save it's coordinate reference system as a variable:\n",
    "```python\n",
    "src_crs = src.crs\n",
    "```"
   ]
  },
  {
   "cell_type": "code",
   "execution_count": 5,
   "id": "98407c94",
   "metadata": {},
   "outputs": [],
   "source": [
    "src_crs = src.crs"
   ]
  },
  {
   "cell_type": "markdown",
   "id": "0315e5ed",
   "metadata": {},
   "source": [
    "```python\n",
    "print(src_crs)\n",
    "```"
   ]
  },
  {
   "cell_type": "code",
   "execution_count": 6,
   "id": "a443c381",
   "metadata": {},
   "outputs": [
    {
     "name": "stdout",
     "output_type": "stream",
     "text": [
      "EPSG:6342\n"
     ]
    }
   ],
   "source": [
    "print(src_crs)"
   ]
  },
  {
   "cell_type": "markdown",
   "id": "9c0e40d4",
   "metadata": {},
   "source": [
    "Now, let's say we want to reproject it (aka WARP) to the WGS84 system...  Let's start by saving the destination coordinate system as a variable:\n",
    "```python\n",
    "dst_crs = ('EPSG:4326')\n",
    "```"
   ]
  },
  {
   "cell_type": "code",
   "execution_count": 8,
   "id": "f7f8d192",
   "metadata": {},
   "outputs": [],
   "source": [
    "dst_crs = ('EPSG:4326')"
   ]
  },
  {
   "cell_type": "markdown",
   "id": "7b91a378",
   "metadata": {},
   "source": [
    "What we need to perform this warp is the affine transform matrix--that is, the math problem--that will take our data and calculate how it should be rendered in WGS84....   \n",
    "\n",
    "For this, we can use [`calculate_default_transform`](https://rasterio.readthedocs.io/en/latest/api/rasterio.warp.html#rasterio.warp.calculate_default_transform)  \n",
    "\n",
    "We need for the params: the source crs, the destination crs, the width, the height, and the bounds of the source image...  \n",
    "\n",
    "Remember:\n",
    "\n",
    "```python\n",
    "src_width = src.width\n",
    "src_height = src.height\n",
    "src_bounds = src.bounds\n",
    "```"
   ]
  },
  {
   "cell_type": "code",
   "execution_count": 9,
   "id": "c8e80c02",
   "metadata": {},
   "outputs": [],
   "source": [
    "src_width = src.width\n",
    "src_height = src.height\n",
    "src_bounds = src.bounds"
   ]
  },
  {
   "cell_type": "markdown",
   "id": "2f0e1b29",
   "metadata": {},
   "source": [
    "Now run the calculate default transform function:\n",
    "```python\n",
    "calculate_default_transform(src_crs, dst_crs, src_width, src_height, src_bounds)\n",
    "```"
   ]
  },
  {
   "cell_type": "code",
   "execution_count": 10,
   "id": "ee198ba1",
   "metadata": {},
   "outputs": [
    {
     "ename": "ValueError",
     "evalue": "Either four bounding values or ground control pointsmust be specified",
     "output_type": "error",
     "traceback": [
      "\u001b[1;31m---------------------------------------------------------------------------\u001b[0m",
      "\u001b[1;31mValueError\u001b[0m                                Traceback (most recent call last)",
      "\u001b[1;32m~\\AppData\\Local\\Temp\\ipykernel_16072\\1704990294.py\u001b[0m in \u001b[0;36m<module>\u001b[1;34m\u001b[0m\n\u001b[1;32m----> 1\u001b[1;33m \u001b[0mcalculate_default_transform\u001b[0m\u001b[1;33m(\u001b[0m\u001b[0msrc_crs\u001b[0m\u001b[1;33m,\u001b[0m \u001b[0mdst_crs\u001b[0m\u001b[1;33m,\u001b[0m \u001b[0msrc_width\u001b[0m\u001b[1;33m,\u001b[0m \u001b[0msrc_height\u001b[0m\u001b[1;33m,\u001b[0m \u001b[0msrc_bounds\u001b[0m\u001b[1;33m)\u001b[0m\u001b[1;33m\u001b[0m\u001b[1;33m\u001b[0m\u001b[0m\n\u001b[0m",
      "\u001b[1;32m~\\AppData\\Local\\Continuum\\anaconda3\\lib\\site-packages\\rasterio\\env.py\u001b[0m in \u001b[0;36mwrapper\u001b[1;34m(*args, **kwds)\u001b[0m\n\u001b[0;32m    395\u001b[0m         \u001b[1;32melse\u001b[0m\u001b[1;33m:\u001b[0m\u001b[1;33m\u001b[0m\u001b[1;33m\u001b[0m\u001b[0m\n\u001b[0;32m    396\u001b[0m             \u001b[1;32mwith\u001b[0m \u001b[0mEnv\u001b[0m\u001b[1;33m.\u001b[0m\u001b[0mfrom_defaults\u001b[0m\u001b[1;33m(\u001b[0m\u001b[1;33m)\u001b[0m\u001b[1;33m:\u001b[0m\u001b[1;33m\u001b[0m\u001b[1;33m\u001b[0m\u001b[0m\n\u001b[1;32m--> 397\u001b[1;33m                 \u001b[1;32mreturn\u001b[0m \u001b[0mf\u001b[0m\u001b[1;33m(\u001b[0m\u001b[1;33m*\u001b[0m\u001b[0margs\u001b[0m\u001b[1;33m,\u001b[0m \u001b[1;33m**\u001b[0m\u001b[0mkwds\u001b[0m\u001b[1;33m)\u001b[0m\u001b[1;33m\u001b[0m\u001b[1;33m\u001b[0m\u001b[0m\n\u001b[0m\u001b[0;32m    398\u001b[0m     \u001b[1;32mreturn\u001b[0m \u001b[0mwrapper\u001b[0m\u001b[1;33m\u001b[0m\u001b[1;33m\u001b[0m\u001b[0m\n\u001b[0;32m    399\u001b[0m \u001b[1;33m\u001b[0m\u001b[0m\n",
      "\u001b[1;32m~\\AppData\\Local\\Continuum\\anaconda3\\lib\\site-packages\\rasterio\\warp.py\u001b[0m in \u001b[0;36mcalculate_default_transform\u001b[1;34m(src_crs, dst_crs, width, height, left, bottom, right, top, gcps, resolution, dst_width, dst_height)\u001b[0m\n\u001b[0;32m    452\u001b[0m \u001b[1;33m\u001b[0m\u001b[0m\n\u001b[0;32m    453\u001b[0m     \u001b[1;32mif\u001b[0m \u001b[0many\u001b[0m\u001b[1;33m(\u001b[0m\u001b[0mx\u001b[0m \u001b[1;32mis\u001b[0m \u001b[1;32mNone\u001b[0m \u001b[1;32mfor\u001b[0m \u001b[0mx\u001b[0m \u001b[1;32min\u001b[0m \u001b[1;33m(\u001b[0m\u001b[0mleft\u001b[0m\u001b[1;33m,\u001b[0m \u001b[0mbottom\u001b[0m\u001b[1;33m,\u001b[0m \u001b[0mright\u001b[0m\u001b[1;33m,\u001b[0m \u001b[0mtop\u001b[0m\u001b[1;33m)\u001b[0m\u001b[1;33m)\u001b[0m \u001b[1;32mand\u001b[0m \u001b[1;32mnot\u001b[0m \u001b[0mgcps\u001b[0m\u001b[1;33m:\u001b[0m\u001b[1;33m\u001b[0m\u001b[1;33m\u001b[0m\u001b[0m\n\u001b[1;32m--> 454\u001b[1;33m         raise ValueError(\"Either four bounding values or ground control points\"\n\u001b[0m\u001b[0;32m    455\u001b[0m                          \"must be specified\")\n\u001b[0;32m    456\u001b[0m \u001b[1;33m\u001b[0m\u001b[0m\n",
      "\u001b[1;31mValueError\u001b[0m: Either four bounding values or ground control pointsmust be specified"
     ]
    }
   ],
   "source": [
    "calculate_default_transform(src_crs, dst_crs, src_width, src_height, src_bounds)"
   ]
  },
  {
   "cell_type": "markdown",
   "id": "195293f8",
   "metadata": {},
   "source": [
    "Oops! What's going on here?  \n",
    "\n",
    "```\n",
    "print(src_bounds)\n",
    "```"
   ]
  },
  {
   "cell_type": "code",
   "execution_count": 11,
   "id": "8da6278a",
   "metadata": {},
   "outputs": [
    {
     "name": "stdout",
     "output_type": "stream",
     "text": [
      "BoundingBox(left=473821.016811, bottom=4425081.87378, right=476522.853286, top=4427603.58783)\n"
     ]
    }
   ],
   "source": [
    "print(src_bounds)"
   ]
  },
  {
   "cell_type": "markdown",
   "id": "795da8e1",
   "metadata": {},
   "source": [
    "We need to unpack these... how to do this?\n",
    "\n",
    "Well... could try indexing... \n",
    "```python\n",
    "src_bounds[0]\n",
    "```"
   ]
  },
  {
   "cell_type": "code",
   "execution_count": 12,
   "id": "fcd74e7d",
   "metadata": {},
   "outputs": [
    {
     "data": {
      "text/plain": [
       "473821.016811"
      ]
     },
     "execution_count": 12,
     "metadata": {},
     "output_type": "execute_result"
    }
   ],
   "source": [
    "src_bounds[0]"
   ]
  },
  {
   "cell_type": "markdown",
   "id": "db7f9881",
   "metadata": {},
   "source": [
    "That gets slightly tedious...  \n",
    "\n",
    "You can use a python \"star expression\" to unpack a variable that is a sequence of values...  Note this is different from a ** expression in that these are not key:value pairs, it's just the \"value\"...  \n",
    "```python\n",
    "print(*src_bounds)\n",
    "```"
   ]
  },
  {
   "cell_type": "code",
   "execution_count": 13,
   "id": "fc46df8e",
   "metadata": {},
   "outputs": [
    {
     "name": "stdout",
     "output_type": "stream",
     "text": [
      "473821.016811 4425081.87378 476522.853286 4427603.58783\n"
     ]
    }
   ],
   "source": [
    "print(*src_bounds)"
   ]
  },
  {
   "cell_type": "markdown",
   "id": "22d5ddfc",
   "metadata": {},
   "source": [
    "Let's try again... \n",
    "```python\n",
    "calculate_default_transform(src_crs, dst_crs, src_width, src_height, *src_bounds)\n",
    "```"
   ]
  },
  {
   "cell_type": "code",
   "execution_count": 14,
   "id": "6f54a694",
   "metadata": {},
   "outputs": [
    {
     "data": {
      "text/plain": [
       "(Affine(1.0548706307405893e-05, 0.0, -105.30668193364492,\n",
       "        0.0, -1.0548706307405893e-05, 39.998289496963764),\n",
       " 3009,\n",
       " 2161)"
      ]
     },
     "execution_count": 14,
     "metadata": {},
     "output_type": "execute_result"
    }
   ],
   "source": [
    "calculate_default_transform(src_crs, dst_crs, src_width, src_height, *src_bounds)"
   ]
  },
  {
   "cell_type": "markdown",
   "id": "cdac4d6a",
   "metadata": {},
   "source": [
    "Sweet! What we have here is a [tuple](https://www.w3schools.com/python/python_tuples.asp) that contains the transformation matrix, the destination width, and destination height. Once again, we'll need to unpack, but our next step won't use them in this order, so we'll need to do it a different way.... \n",
    "\n",
    "`(transform, width, height)`\n",
    "\n",
    "Again... could use indexing... \n",
    "```\n",
    "transform = calculate_default_transform(src_crs, dst_crs, src_width, src_height, *src_bounds)[0]\n",
    "```\n",
    "... etc...  "
   ]
  },
  {
   "cell_type": "code",
   "execution_count": null,
   "id": "0fe05e93",
   "metadata": {},
   "outputs": [],
   "source": [
    "transform = calculate_default_transform(src_crs, dst_crs, src_width, src_height, *src_bounds)[0]\n",
    "width = "
   ]
  },
  {
   "cell_type": "markdown",
   "id": "dcfa66a5",
   "metadata": {},
   "source": [
    "Or, just assign multiple variables using commas:  \n",
    "\n",
    "```\n",
    "transform, dst_width, dst_height = calculate_default_transform(src_crs, dst_crs, src_width, src_height, *src_bounds)\n",
    "```"
   ]
  },
  {
   "cell_type": "code",
   "execution_count": 15,
   "id": "3c080da0",
   "metadata": {},
   "outputs": [],
   "source": [
    "transform, dst_width, dst_height = calculate_default_transform(src_crs, dst_crs, src_width, src_height, *src_bounds)"
   ]
  },
  {
   "cell_type": "markdown",
   "id": "1aab8a6c",
   "metadata": {},
   "source": [
    "Print them to see if it worked...  \n",
    "\n",
    "```\n",
    "print(transform)\n",
    "print(dst_width)\n",
    "print(dst_height)\n",
    "```"
   ]
  },
  {
   "cell_type": "code",
   "execution_count": 16,
   "id": "90f0f805",
   "metadata": {},
   "outputs": [
    {
     "name": "stdout",
     "output_type": "stream",
     "text": [
      "| 0.00, 0.00,-105.31|\n",
      "| 0.00,-0.00, 40.00|\n",
      "| 0.00, 0.00, 1.00|\n",
      "3009\n",
      "2161\n"
     ]
    }
   ],
   "source": [
    "print(transform)\n",
    "print(dst_width)\n",
    "print(dst_height)"
   ]
  },
  {
   "cell_type": "markdown",
   "id": "08c4ebd4",
   "metadata": {},
   "source": [
    "Okay, same procedures as before when opening a new blank destination dataset...  \n",
    "\n",
    "Grab the profile:  \n",
    "```python\n",
    "profile = src.profile.copy()\n",
    "```"
   ]
  },
  {
   "cell_type": "code",
   "execution_count": 17,
   "id": "77a74f8c",
   "metadata": {},
   "outputs": [],
   "source": [
    "profile = src.profile.copy()"
   ]
  },
  {
   "cell_type": "markdown",
   "id": "1371e7c5",
   "metadata": {},
   "source": [
    "Now update the profile with the parameters we need:\n",
    "```python\n",
    "profile.update(height = dst_height, \n",
    "               width = dst_width, \n",
    "               crs = dst_crs, \n",
    "               transform = transform)\n",
    "```"
   ]
  },
  {
   "cell_type": "code",
   "execution_count": 22,
   "id": "4c74486b",
   "metadata": {},
   "outputs": [],
   "source": [
    "profile.update(height = dst_height, width = dst_width, crs=dst_crs,transform=transform)"
   ]
  },
  {
   "cell_type": "markdown",
   "id": "3b4f4dad",
   "metadata": {},
   "source": [
    "Now, we can open a new blank dataset with the meta information we want:  \n",
    "\n",
    "```python\n",
    "demWGS84 = rio.open('demWGS84.tif', 'w', **profile)\n",
    "```"
   ]
  },
  {
   "cell_type": "code",
   "execution_count": 23,
   "id": "74ff5930",
   "metadata": {},
   "outputs": [],
   "source": [
    "demWGS84 = rio.open('demWGS84.tif','w',**profile)"
   ]
  },
  {
   "cell_type": "markdown",
   "id": "d43ad65d",
   "metadata": {},
   "source": [
    "Now, we'll run the `reproject()` function. Let's take a look at the documentation: (https://rasterio.readthedocs.io/en/latest/topics/reproject.html)\n",
    "```python\n",
    "reproject(source = rio.band(src,1), \n",
    "          destination = rio.band(demWGS84,1), \n",
    "          src_transform = src.transform, \n",
    "          src_crs = src_crs, \n",
    "          dst_transform = transform, \n",
    "          dst_crs = dst_crs, \n",
    "          resampling=Resampling.nearest, \n",
    "          dst_nodata=np.nan)\n",
    "```"
   ]
  },
  {
   "cell_type": "code",
   "execution_count": 24,
   "id": "57794238",
   "metadata": {},
   "outputs": [
    {
     "data": {
      "text/plain": [
       "(Band(ds=<open DatasetWriter name='demWGS84.tif' mode='w'>, bidx=1, dtype='float32', shape=(2161, 3009)),\n",
       " Affine(1.0548706307405893e-05, 0.0, -105.30668193364492,\n",
       "        0.0, -1.0548706307405893e-05, 39.998289496963764))"
      ]
     },
     "execution_count": 24,
     "metadata": {},
     "output_type": "execute_result"
    }
   ],
   "source": [
    "reproject(source = rio.band(src,1), \n",
    "         destination = rio.band(demWGS84,1),\n",
    "         src_transform = src.transform,\n",
    "         src_crs = src_crs,\n",
    "         dst_transform = transform,\n",
    "         dst_crs = dst_crs,\n",
    "         resampling = Resampling.nearest,\n",
    "         dst_nodata=np.nan)"
   ]
  },
  {
   "cell_type": "markdown",
   "id": "cae8382c",
   "metadata": {},
   "source": [
    "```python\n",
    "demWGS84.close()\n",
    "src.close()\n",
    "```"
   ]
  },
  {
   "cell_type": "code",
   "execution_count": 25,
   "id": "2924905d",
   "metadata": {},
   "outputs": [],
   "source": [
    "demWGS84.close()\n",
    "src.close()"
   ]
  },
  {
   "cell_type": "code",
   "execution_count": null,
   "id": "96900049",
   "metadata": {},
   "outputs": [],
   "source": []
  },
  {
   "cell_type": "markdown",
   "id": "6d122a67",
   "metadata": {},
   "source": [
    "Now that we have a handle on how this works.... let's try to streamline it...  \n",
    "\n"
   ]
  },
  {
   "cell_type": "markdown",
   "id": "3546331e",
   "metadata": {},
   "source": [
    "Cool... okay, now slightly more elegant:"
   ]
  },
  {
   "cell_type": "code",
   "execution_count": 26,
   "id": "8e406392",
   "metadata": {},
   "outputs": [],
   "source": [
    "with rio.open('workshopdata/Flatirons_DEM_1m.tif') as src:\n",
    "    transform, width, height = calculate_default_transform(\n",
    "        src.crs, dst_crs, src.width, src.height, *src.bounds)\n",
    "    kwargs = src.meta.copy()\n",
    "    kwargs.update(crs = dst_crs, transform = transform, width = width, height = height)\n",
    "\n",
    "    with rio.open('demWGS84.tif', 'w', **kwargs) as dst:\n",
    "        reproject(source=rio.band(src, 1),\n",
    "                  destination=rio.band(dst, 1),\n",
    "                  src_transform=src.transform,\n",
    "                  src_crs=src.crs,dst_transform=transform,\n",
    "                  dst_crs=dst_crs,\n",
    "                  resampling=Resampling.nearest)"
   ]
  },
  {
   "cell_type": "markdown",
   "id": "7660a9a1",
   "metadata": {},
   "source": [
    "Multiple Bands???"
   ]
  },
  {
   "cell_type": "code",
   "execution_count": 27,
   "id": "902127cf",
   "metadata": {},
   "outputs": [],
   "source": [
    "with rio.open('workshopdata/NAIP_Campus_Clip.tif') as src:\n",
    "    transform, width, height = calculate_default_transform(\n",
    "        src.crs, dst_crs, src.width, src.height, *src.bounds)\n",
    "    kwargs = src.meta.copy()\n",
    "    kwargs.update(crs = dst_crs,\n",
    "                  transform = transform,\n",
    "                  width = width,\n",
    "                  height = height,\n",
    "                  photometric = 'rgb', #<-----important for this data!\n",
    "                  alpha = 'no') #<-----important for this data!)\n",
    "\n",
    "    with rio.open('NAIP_Campus_Clip_WGS84.tif', 'w', **kwargs) as dst:\n",
    "        for i in range(1, src.count + 1): #<----- Note that we're iterating over the bands\n",
    "            reproject(\n",
    "                source=rio.band(src, i),\n",
    "                destination=rio.band(dst, i),\n",
    "                src_transform=src.transform,\n",
    "                src_crs=src.crs,\n",
    "                dst_transform=transform,\n",
    "                dst_crs=dst_crs,\n",
    "                resampling=Resampling.nearest)"
   ]
  },
  {
   "cell_type": "markdown",
   "id": "f56915b8",
   "metadata": {},
   "source": [
    "#### But watch out for color profile stuff...  \n",
    "\n",
    "Rasterio uses GDAL.... basically, when you do certain operations, Rasterio reaches into GDAL to do it. For example, the GTiff driver is GDAL. If you need to mess with the settings, you often have to look at the GDAL documentation to figure out how to do make it work in Rasterio. Which is how I figured out the colorinterp settings... "
   ]
  },
  {
   "cell_type": "code",
   "execution_count": 28,
   "id": "303bf949",
   "metadata": {},
   "outputs": [
    {
     "ename": "RasterioIOError",
     "evalue": "NAIP_Campus_Clip.tif: No such file or directory",
     "output_type": "error",
     "traceback": [
      "\u001b[1;31m---------------------------------------------------------------------------\u001b[0m",
      "\u001b[1;31mCPLE_OpenFailedError\u001b[0m                      Traceback (most recent call last)",
      "\u001b[1;32mrasterio\\_base.pyx\u001b[0m in \u001b[0;36mrasterio._base.DatasetBase.__init__\u001b[1;34m()\u001b[0m\n",
      "\u001b[1;32mrasterio\\_shim.pyx\u001b[0m in \u001b[0;36mrasterio._shim.open_dataset\u001b[1;34m()\u001b[0m\n",
      "\u001b[1;32mrasterio\\_err.pyx\u001b[0m in \u001b[0;36mrasterio._err.exc_wrap_pointer\u001b[1;34m()\u001b[0m\n",
      "\u001b[1;31mCPLE_OpenFailedError\u001b[0m: NAIP_Campus_Clip.tif: No such file or directory",
      "\nDuring handling of the above exception, another exception occurred:\n",
      "\u001b[1;31mRasterioIOError\u001b[0m                           Traceback (most recent call last)",
      "\u001b[1;32m~\\AppData\\Local\\Temp\\ipykernel_16072\\1781857445.py\u001b[0m in \u001b[0;36m<module>\u001b[1;34m\u001b[0m\n\u001b[1;32m----> 1\u001b[1;33m \u001b[1;32mwith\u001b[0m \u001b[0mrio\u001b[0m\u001b[1;33m.\u001b[0m\u001b[0mopen\u001b[0m\u001b[1;33m(\u001b[0m\u001b[1;34m'NAIP_Campus_Clip.tif'\u001b[0m\u001b[1;33m)\u001b[0m \u001b[1;32mas\u001b[0m \u001b[0mnaip\u001b[0m\u001b[1;33m:\u001b[0m\u001b[1;33m\u001b[0m\u001b[1;33m\u001b[0m\u001b[0m\n\u001b[0m\u001b[0;32m      2\u001b[0m     \u001b[0mprint\u001b[0m\u001b[1;33m(\u001b[0m\u001b[0mnaip\u001b[0m\u001b[1;33m.\u001b[0m\u001b[0mcolorinterp\u001b[0m\u001b[1;33m)\u001b[0m\u001b[1;33m\u001b[0m\u001b[1;33m\u001b[0m\u001b[0m\n",
      "\u001b[1;32m~\\AppData\\Local\\Continuum\\anaconda3\\lib\\site-packages\\rasterio\\env.py\u001b[0m in \u001b[0;36mwrapper\u001b[1;34m(*args, **kwds)\u001b[0m\n\u001b[0;32m    443\u001b[0m \u001b[1;33m\u001b[0m\u001b[0m\n\u001b[0;32m    444\u001b[0m         \u001b[1;32mwith\u001b[0m \u001b[0menv_ctor\u001b[0m\u001b[1;33m(\u001b[0m\u001b[0msession\u001b[0m\u001b[1;33m=\u001b[0m\u001b[0msession\u001b[0m\u001b[1;33m)\u001b[0m\u001b[1;33m:\u001b[0m\u001b[1;33m\u001b[0m\u001b[1;33m\u001b[0m\u001b[0m\n\u001b[1;32m--> 445\u001b[1;33m             \u001b[1;32mreturn\u001b[0m \u001b[0mf\u001b[0m\u001b[1;33m(\u001b[0m\u001b[1;33m*\u001b[0m\u001b[0margs\u001b[0m\u001b[1;33m,\u001b[0m \u001b[1;33m**\u001b[0m\u001b[0mkwds\u001b[0m\u001b[1;33m)\u001b[0m\u001b[1;33m\u001b[0m\u001b[1;33m\u001b[0m\u001b[0m\n\u001b[0m\u001b[0;32m    446\u001b[0m \u001b[1;33m\u001b[0m\u001b[0m\n\u001b[0;32m    447\u001b[0m     \u001b[1;32mreturn\u001b[0m \u001b[0mwrapper\u001b[0m\u001b[1;33m\u001b[0m\u001b[1;33m\u001b[0m\u001b[0m\n",
      "\u001b[1;32m~\\AppData\\Local\\Continuum\\anaconda3\\lib\\site-packages\\rasterio\\__init__.py\u001b[0m in \u001b[0;36mopen\u001b[1;34m(fp, mode, driver, width, height, count, crs, transform, dtype, nodata, sharing, **kwargs)\u001b[0m\n\u001b[0;32m    217\u001b[0m         \u001b[1;31m# None.\u001b[0m\u001b[1;33m\u001b[0m\u001b[1;33m\u001b[0m\u001b[1;33m\u001b[0m\u001b[0m\n\u001b[0;32m    218\u001b[0m         \u001b[1;32mif\u001b[0m \u001b[0mmode\u001b[0m \u001b[1;33m==\u001b[0m \u001b[1;34m'r'\u001b[0m\u001b[1;33m:\u001b[0m\u001b[1;33m\u001b[0m\u001b[1;33m\u001b[0m\u001b[0m\n\u001b[1;32m--> 219\u001b[1;33m             \u001b[0ms\u001b[0m \u001b[1;33m=\u001b[0m \u001b[0mDatasetReader\u001b[0m\u001b[1;33m(\u001b[0m\u001b[0mpath\u001b[0m\u001b[1;33m,\u001b[0m \u001b[0mdriver\u001b[0m\u001b[1;33m=\u001b[0m\u001b[0mdriver\u001b[0m\u001b[1;33m,\u001b[0m \u001b[0msharing\u001b[0m\u001b[1;33m=\u001b[0m\u001b[0msharing\u001b[0m\u001b[1;33m,\u001b[0m \u001b[1;33m**\u001b[0m\u001b[0mkwargs\u001b[0m\u001b[1;33m)\u001b[0m\u001b[1;33m\u001b[0m\u001b[1;33m\u001b[0m\u001b[0m\n\u001b[0m\u001b[0;32m    220\u001b[0m         \u001b[1;32melif\u001b[0m \u001b[0mmode\u001b[0m \u001b[1;33m==\u001b[0m \u001b[1;34m'r+'\u001b[0m\u001b[1;33m:\u001b[0m\u001b[1;33m\u001b[0m\u001b[1;33m\u001b[0m\u001b[0m\n\u001b[0;32m    221\u001b[0m             \u001b[0ms\u001b[0m \u001b[1;33m=\u001b[0m \u001b[0mget_writer_for_path\u001b[0m\u001b[1;33m(\u001b[0m\u001b[0mpath\u001b[0m\u001b[1;33m)\u001b[0m\u001b[1;33m(\u001b[0m\u001b[0mpath\u001b[0m\u001b[1;33m,\u001b[0m \u001b[0mmode\u001b[0m\u001b[1;33m,\u001b[0m \u001b[0mdriver\u001b[0m\u001b[1;33m=\u001b[0m\u001b[0mdriver\u001b[0m\u001b[1;33m,\u001b[0m \u001b[0msharing\u001b[0m\u001b[1;33m=\u001b[0m\u001b[0msharing\u001b[0m\u001b[1;33m,\u001b[0m \u001b[1;33m**\u001b[0m\u001b[0mkwargs\u001b[0m\u001b[1;33m)\u001b[0m\u001b[1;33m\u001b[0m\u001b[1;33m\u001b[0m\u001b[0m\n",
      "\u001b[1;32mrasterio\\_base.pyx\u001b[0m in \u001b[0;36mrasterio._base.DatasetBase.__init__\u001b[1;34m()\u001b[0m\n",
      "\u001b[1;31mRasterioIOError\u001b[0m: NAIP_Campus_Clip.tif: No such file or directory"
     ]
    }
   ],
   "source": [
    "with rio.open('NAIP_Campus_Clip.tif') as naip:\n",
    "    print(naip.colorinterp)"
   ]
  },
  {
   "cell_type": "markdown",
   "id": "48678c0e",
   "metadata": {},
   "source": [
    "Took me forever to figure that out... "
   ]
  }
 ],
 "metadata": {
  "kernelspec": {
   "display_name": "Python 3 (ipykernel)",
   "language": "python",
   "name": "python3"
  },
  "language_info": {
   "codemirror_mode": {
    "name": "ipython",
    "version": 3
   },
   "file_extension": ".py",
   "mimetype": "text/x-python",
   "name": "python",
   "nbconvert_exporter": "python",
   "pygments_lexer": "ipython3",
   "version": "3.7.4"
  }
 },
 "nbformat": 4,
 "nbformat_minor": 5
}
